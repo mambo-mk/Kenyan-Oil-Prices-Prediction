{
 "cells": [
  {
   "cell_type": "code",
   "execution_count": 24,
   "id": "a490896e",
   "metadata": {},
   "outputs": [
    {
     "data": {
      "text/html": [
       "<div>\n",
       "<style scoped>\n",
       "    .dataframe tbody tr th:only-of-type {\n",
       "        vertical-align: middle;\n",
       "    }\n",
       "\n",
       "    .dataframe tbody tr th {\n",
       "        vertical-align: top;\n",
       "    }\n",
       "\n",
       "    .dataframe thead th {\n",
       "        text-align: right;\n",
       "    }\n",
       "</style>\n",
       "<table border=\"1\" class=\"dataframe\">\n",
       "  <thead>\n",
       "    <tr style=\"text-align: right;\">\n",
       "      <th></th>\n",
       "      <th>.;</th>\n",
       "      <th>Date</th>\n",
       "      <th>Price Per Barell</th>\n",
       "      <th>Exrates</th>\n",
       "      <th>PMS</th>\n",
       "      <th>AGO</th>\n",
       "      <th>Kero</th>\n",
       "      <th>Average_price_crude</th>\n",
       "      <th>Price_oil_internationally</th>\n",
       "    </tr>\n",
       "  </thead>\n",
       "  <tbody>\n",
       "    <tr>\n",
       "      <th>0</th>\n",
       "      <td>0</td>\n",
       "      <td>14/01/2010</td>\n",
       "      <td>89.15</td>\n",
       "      <td>80.57</td>\n",
       "      <td>94.03</td>\n",
       "      <td>87.45</td>\n",
       "      <td>75.83</td>\n",
       "      <td>85.77</td>\n",
       "      <td>45.18</td>\n",
       "    </tr>\n",
       "    <tr>\n",
       "      <th>1</th>\n",
       "      <td>1</td>\n",
       "      <td>14/01/2011</td>\n",
       "      <td>89.17</td>\n",
       "      <td>81.03</td>\n",
       "      <td>95.67</td>\n",
       "      <td>88.71</td>\n",
       "      <td>77.51</td>\n",
       "      <td>87.30</td>\n",
       "      <td>45.45</td>\n",
       "    </tr>\n",
       "    <tr>\n",
       "      <th>2</th>\n",
       "      <td>2</td>\n",
       "      <td>14/02/2011</td>\n",
       "      <td>88.58</td>\n",
       "      <td>81.47</td>\n",
       "      <td>98.08</td>\n",
       "      <td>91.72</td>\n",
       "      <td>79.52</td>\n",
       "      <td>89.77</td>\n",
       "      <td>45.39</td>\n",
       "    </tr>\n",
       "    <tr>\n",
       "      <th>3</th>\n",
       "      <td>3</td>\n",
       "      <td>14/03/2011</td>\n",
       "      <td>102.86</td>\n",
       "      <td>84.21</td>\n",
       "      <td>102.44</td>\n",
       "      <td>94.53</td>\n",
       "      <td>83.97</td>\n",
       "      <td>93.65</td>\n",
       "      <td>54.48</td>\n",
       "    </tr>\n",
       "    <tr>\n",
       "      <th>4</th>\n",
       "      <td>4</td>\n",
       "      <td>14/04/2011</td>\n",
       "      <td>109.53</td>\n",
       "      <td>83.89</td>\n",
       "      <td>111.17</td>\n",
       "      <td>107.52</td>\n",
       "      <td>90.91</td>\n",
       "      <td>103.20</td>\n",
       "      <td>57.79</td>\n",
       "    </tr>\n",
       "  </tbody>\n",
       "</table>\n",
       "</div>"
      ],
      "text/plain": [
       "   .;        Date  Price Per Barell  Exrates     PMS     AGO   Kero  \\\n",
       "0   0  14/01/2010             89.15    80.57   94.03   87.45  75.83   \n",
       "1   1  14/01/2011             89.17    81.03   95.67   88.71  77.51   \n",
       "2   2  14/02/2011             88.58    81.47   98.08   91.72  79.52   \n",
       "3   3  14/03/2011            102.86    84.21  102.44   94.53  83.97   \n",
       "4   4  14/04/2011            109.53    83.89  111.17  107.52  90.91   \n",
       "\n",
       "   Average_price_crude  Price_oil_internationally  \n",
       "0                85.77                      45.18  \n",
       "1                87.30                      45.45  \n",
       "2                89.77                      45.39  \n",
       "3                93.65                      54.48  \n",
       "4               103.20                      57.79  "
      ]
     },
     "execution_count": 24,
     "metadata": {},
     "output_type": "execute_result"
    }
   ],
   "source": [
    "import pandas as pd\n",
    "df = pd.read_csv(r\"C:\\Users\\Admin\\Downloads\\oil  pricesdata Edited - oil_prices.csv\")\n",
    "df.head()"
   ]
  },
  {
   "cell_type": "code",
   "execution_count": 25,
   "id": "8122b071",
   "metadata": {},
   "outputs": [
    {
     "data": {
      "text/plain": [
       "Index(['.;', 'Date', 'Price Per Barell', 'Exrates', 'PMS', 'AGO', 'Kero',\n",
       "       'Average_price_crude', 'Price_oil_internationally'],\n",
       "      dtype='object')"
      ]
     },
     "execution_count": 25,
     "metadata": {},
     "output_type": "execute_result"
    }
   ],
   "source": [
    "# column names\n",
    "df.columns"
   ]
  },
  {
   "cell_type": "code",
   "execution_count": 26,
   "id": "599380c7",
   "metadata": {},
   "outputs": [
    {
     "data": {
      "text/plain": [
       "(138, 9)"
      ]
     },
     "execution_count": 26,
     "metadata": {},
     "output_type": "execute_result"
    }
   ],
   "source": [
    "# Number of rows and columns\n",
    "df.shape"
   ]
  },
  {
   "cell_type": "code",
   "execution_count": 27,
   "id": "74fba58c",
   "metadata": {},
   "outputs": [
    {
     "data": {
      "text/html": [
       "<div>\n",
       "<style scoped>\n",
       "    .dataframe tbody tr th:only-of-type {\n",
       "        vertical-align: middle;\n",
       "    }\n",
       "\n",
       "    .dataframe tbody tr th {\n",
       "        vertical-align: top;\n",
       "    }\n",
       "\n",
       "    .dataframe thead th {\n",
       "        text-align: right;\n",
       "    }\n",
       "</style>\n",
       "<table border=\"1\" class=\"dataframe\">\n",
       "  <thead>\n",
       "    <tr style=\"text-align: right;\">\n",
       "      <th></th>\n",
       "      <th>.;</th>\n",
       "      <th>Price Per Barell</th>\n",
       "      <th>Exrates</th>\n",
       "      <th>PMS</th>\n",
       "      <th>AGO</th>\n",
       "      <th>Kero</th>\n",
       "      <th>Average_price_crude</th>\n",
       "      <th>Price_oil_internationally</th>\n",
       "    </tr>\n",
       "  </thead>\n",
       "  <tbody>\n",
       "    <tr>\n",
       "      <th>count</th>\n",
       "      <td>138.000000</td>\n",
       "      <td>138.000000</td>\n",
       "      <td>138.000000</td>\n",
       "      <td>138.000000</td>\n",
       "      <td>138.000000</td>\n",
       "      <td>138.000000</td>\n",
       "      <td>137.000000</td>\n",
       "      <td>138.000000</td>\n",
       "    </tr>\n",
       "    <tr>\n",
       "      <th>mean</th>\n",
       "      <td>68.434783</td>\n",
       "      <td>70.756014</td>\n",
       "      <td>97.766232</td>\n",
       "      <td>108.358478</td>\n",
       "      <td>97.701377</td>\n",
       "      <td>81.371667</td>\n",
       "      <td>95.825255</td>\n",
       "      <td>42.637464</td>\n",
       "    </tr>\n",
       "    <tr>\n",
       "      <th>std</th>\n",
       "      <td>39.996525</td>\n",
       "      <td>22.519599</td>\n",
       "      <td>9.301060</td>\n",
       "      <td>12.587648</td>\n",
       "      <td>12.191943</td>\n",
       "      <td>17.008631</td>\n",
       "      <td>13.432170</td>\n",
       "      <td>11.484366</td>\n",
       "    </tr>\n",
       "    <tr>\n",
       "      <th>min</th>\n",
       "      <td>0.000000</td>\n",
       "      <td>17.640000</td>\n",
       "      <td>80.570000</td>\n",
       "      <td>80.710000</td>\n",
       "      <td>65.700000</td>\n",
       "      <td>39.620000</td>\n",
       "      <td>63.630000</td>\n",
       "      <td>11.840000</td>\n",
       "    </tr>\n",
       "    <tr>\n",
       "      <th>25%</th>\n",
       "      <td>34.250000</td>\n",
       "      <td>50.660000</td>\n",
       "      <td>87.460000</td>\n",
       "      <td>99.715000</td>\n",
       "      <td>88.710000</td>\n",
       "      <td>66.432500</td>\n",
       "      <td>85.500000</td>\n",
       "      <td>32.595000</td>\n",
       "    </tr>\n",
       "    <tr>\n",
       "      <th>50%</th>\n",
       "      <td>68.500000</td>\n",
       "      <td>67.755000</td>\n",
       "      <td>101.170000</td>\n",
       "      <td>109.390000</td>\n",
       "      <td>101.935000</td>\n",
       "      <td>83.380000</td>\n",
       "      <td>99.140000</td>\n",
       "      <td>43.850000</td>\n",
       "    </tr>\n",
       "    <tr>\n",
       "      <th>75%</th>\n",
       "      <td>101.750000</td>\n",
       "      <td>93.142500</td>\n",
       "      <td>103.545000</td>\n",
       "      <td>115.160000</td>\n",
       "      <td>106.045000</td>\n",
       "      <td>94.305000</td>\n",
       "      <td>104.530000</td>\n",
       "      <td>51.717500</td>\n",
       "    </tr>\n",
       "    <tr>\n",
       "      <th>max</th>\n",
       "      <td>138.000000</td>\n",
       "      <td>112.480000</td>\n",
       "      <td>115.500000</td>\n",
       "      <td>150.120000</td>\n",
       "      <td>131.000000</td>\n",
       "      <td>118.940000</td>\n",
       "      <td>133.350000</td>\n",
       "      <td>81.710000</td>\n",
       "    </tr>\n",
       "  </tbody>\n",
       "</table>\n",
       "</div>"
      ],
      "text/plain": [
       "               .;  Price Per Barell     Exrates         PMS         AGO  \\\n",
       "count  138.000000        138.000000  138.000000  138.000000  138.000000   \n",
       "mean    68.434783         70.756014   97.766232  108.358478   97.701377   \n",
       "std     39.996525         22.519599    9.301060   12.587648   12.191943   \n",
       "min      0.000000         17.640000   80.570000   80.710000   65.700000   \n",
       "25%     34.250000         50.660000   87.460000   99.715000   88.710000   \n",
       "50%     68.500000         67.755000  101.170000  109.390000  101.935000   \n",
       "75%    101.750000         93.142500  103.545000  115.160000  106.045000   \n",
       "max    138.000000        112.480000  115.500000  150.120000  131.000000   \n",
       "\n",
       "             Kero  Average_price_crude  Price_oil_internationally  \n",
       "count  138.000000           137.000000                 138.000000  \n",
       "mean    81.371667            95.825255                  42.637464  \n",
       "std     17.008631            13.432170                  11.484366  \n",
       "min     39.620000            63.630000                  11.840000  \n",
       "25%     66.432500            85.500000                  32.595000  \n",
       "50%     83.380000            99.140000                  43.850000  \n",
       "75%     94.305000           104.530000                  51.717500  \n",
       "max    118.940000           133.350000                  81.710000  "
      ]
     },
     "execution_count": 27,
     "metadata": {},
     "output_type": "execute_result"
    }
   ],
   "source": [
    "# summary statistics\n",
    "df.describe()"
   ]
  },
  {
   "cell_type": "code",
   "execution_count": 28,
   "id": "c8b6a2f6",
   "metadata": {},
   "outputs": [
    {
     "name": "stdout",
     "output_type": "stream",
     "text": [
      "<class 'pandas.core.frame.DataFrame'>\n",
      "RangeIndex: 138 entries, 0 to 137\n",
      "Data columns (total 9 columns):\n",
      " #   Column                     Non-Null Count  Dtype  \n",
      "---  ------                     --------------  -----  \n",
      " 0   .;                         138 non-null    int64  \n",
      " 1   Date                       138 non-null    object \n",
      " 2   Price Per Barell           138 non-null    float64\n",
      " 3   Exrates                    138 non-null    float64\n",
      " 4   PMS                        138 non-null    float64\n",
      " 5   AGO                        138 non-null    float64\n",
      " 6   Kero                       138 non-null    float64\n",
      " 7   Average_price_crude        137 non-null    float64\n",
      " 8   Price_oil_internationally  138 non-null    float64\n",
      "dtypes: float64(7), int64(1), object(1)\n",
      "memory usage: 9.8+ KB\n"
     ]
    }
   ],
   "source": [
    "# column types\n",
    "df.info()"
   ]
  },
  {
   "cell_type": "code",
   "execution_count": 29,
   "id": "37809ad0",
   "metadata": {},
   "outputs": [
    {
     "data": {
      "text/plain": [
       ".;                           0\n",
       "Date                         0\n",
       "Price Per Barell             0\n",
       "Exrates                      0\n",
       "PMS                          0\n",
       "AGO                          0\n",
       "Kero                         0\n",
       "Average_price_crude          1\n",
       "Price_oil_internationally    0\n",
       "dtype: int64"
      ]
     },
     "execution_count": 29,
     "metadata": {},
     "output_type": "execute_result"
    }
   ],
   "source": [
    "# checking for nulls\n",
    "df.isnull().sum()"
   ]
  },
  {
   "cell_type": "code",
   "execution_count": 35,
   "id": "c6460405",
   "metadata": {},
   "outputs": [],
   "source": [
    "df[\"Average_price_crude\"].fillna(df[\"Average_price_crude\"].mean(), inplace=True)"
   ]
  },
  {
   "cell_type": "code",
   "execution_count": 36,
   "id": "8b3105c7",
   "metadata": {},
   "outputs": [
    {
     "data": {
      "text/plain": [
       ".;                           0\n",
       "Date                         0\n",
       "Price Per Barell             0\n",
       "Exrates                      0\n",
       "PMS                          0\n",
       "AGO                          0\n",
       "Kero                         0\n",
       "Average_price_crude          0\n",
       "Price_oil_internationally    0\n",
       "dtype: int64"
      ]
     },
     "execution_count": 36,
     "metadata": {},
     "output_type": "execute_result"
    }
   ],
   "source": [
    "df.isnull().sum()"
   ]
  },
  {
   "cell_type": "markdown",
   "id": "aa6a3582",
   "metadata": {},
   "source": [
    "## Building a linear regression model"
   ]
  },
  {
   "cell_type": "code",
   "execution_count": 38,
   "id": "672f0ac0",
   "metadata": {},
   "outputs": [
    {
     "data": {
      "text/html": [
       "<div>\n",
       "<style scoped>\n",
       "    .dataframe tbody tr th:only-of-type {\n",
       "        vertical-align: middle;\n",
       "    }\n",
       "\n",
       "    .dataframe tbody tr th {\n",
       "        vertical-align: top;\n",
       "    }\n",
       "\n",
       "    .dataframe thead th {\n",
       "        text-align: right;\n",
       "    }\n",
       "</style>\n",
       "<table border=\"1\" class=\"dataframe\">\n",
       "  <thead>\n",
       "    <tr style=\"text-align: right;\">\n",
       "      <th></th>\n",
       "      <th>Price Per Barell</th>\n",
       "      <th>Exrates</th>\n",
       "      <th>Average_price_crude</th>\n",
       "    </tr>\n",
       "  </thead>\n",
       "  <tbody>\n",
       "    <tr>\n",
       "      <th>0</th>\n",
       "      <td>89.15</td>\n",
       "      <td>80.57</td>\n",
       "      <td>85.77</td>\n",
       "    </tr>\n",
       "    <tr>\n",
       "      <th>1</th>\n",
       "      <td>89.17</td>\n",
       "      <td>81.03</td>\n",
       "      <td>87.30</td>\n",
       "    </tr>\n",
       "    <tr>\n",
       "      <th>2</th>\n",
       "      <td>88.58</td>\n",
       "      <td>81.47</td>\n",
       "      <td>89.77</td>\n",
       "    </tr>\n",
       "    <tr>\n",
       "      <th>3</th>\n",
       "      <td>102.86</td>\n",
       "      <td>84.21</td>\n",
       "      <td>93.65</td>\n",
       "    </tr>\n",
       "    <tr>\n",
       "      <th>4</th>\n",
       "      <td>109.53</td>\n",
       "      <td>83.89</td>\n",
       "      <td>103.20</td>\n",
       "    </tr>\n",
       "  </tbody>\n",
       "</table>\n",
       "</div>"
      ],
      "text/plain": [
       "   Price Per Barell  Exrates  Average_price_crude\n",
       "0             89.15    80.57                85.77\n",
       "1             89.17    81.03                87.30\n",
       "2             88.58    81.47                89.77\n",
       "3            102.86    84.21                93.65\n",
       "4            109.53    83.89               103.20"
      ]
     },
     "execution_count": 38,
     "metadata": {},
     "output_type": "execute_result"
    }
   ],
   "source": [
    "# identify x and y\n",
    "df = df[[\"Price Per Barell\", \"Exrates\", \"Average_price_crude\"]]\n",
    "df.head()"
   ]
  },
  {
   "cell_type": "code",
   "execution_count": 42,
   "id": "c429a963",
   "metadata": {},
   "outputs": [
    {
     "name": "stdout",
     "output_type": "stream",
     "text": [
      "(138, 2)\n",
      "(138,)\n"
     ]
    },
    {
     "name": "stderr",
     "output_type": "stream",
     "text": [
      "C:\\Users\\Admin\\AppData\\Local\\Temp\\ipykernel_19068\\3977246121.py:1: FutureWarning: In a future version of pandas all arguments of DataFrame.drop except for the argument 'labels' will be keyword-only.\n",
      "  x = df.drop(\"Average_price_crude\", 1)\n"
     ]
    }
   ],
   "source": [
    "x = df.drop(\"Average_price_crude\", 1)\n",
    "y = df[\"Average_price_crude\"]\n",
    "\n",
    "print(x.shape)\n",
    "print(y.shape)"
   ]
  },
  {
   "cell_type": "code",
   "execution_count": 44,
   "id": "8f6675b2",
   "metadata": {},
   "outputs": [
    {
     "name": "stdout",
     "output_type": "stream",
     "text": [
      "(138, 2) (138,) (96, 2) (42, 2) (96,) (42,)\n"
     ]
    }
   ],
   "source": [
    "# create a train test split\n",
    "from sklearn.model_selection import train_test_split\n",
    "x_train, x_test, y_train, y_test = train_test_split(x, y, test_size=0.3)\n",
    "print(x.shape, y.shape, x_train.shape, x_test.shape, y_train.shape, y_test.shape)"
   ]
  },
  {
   "cell_type": "code",
   "execution_count": 46,
   "id": "bf8fe930",
   "metadata": {},
   "outputs": [],
   "source": [
    "# initialize a regresssion model\n",
    "from sklearn.linear_model import LinearRegression \n",
    "from sklearn.svm import LinearSVR\n",
    "from sklearn.ensemble import GradientBoostingRegressor as GBR\n",
    "model = LinearRegression()"
   ]
  },
  {
   "cell_type": "code",
   "execution_count": 49,
   "id": "ee198906",
   "metadata": {},
   "outputs": [],
   "source": [
    "model1 = LinearSVR()\n",
    "model1 = GBR()"
   ]
  },
  {
   "cell_type": "code",
   "execution_count": 50,
   "id": "a24c6949",
   "metadata": {},
   "outputs": [
    {
     "data": {
      "text/plain": [
       "GradientBoostingRegressor()"
      ]
     },
     "execution_count": 50,
     "metadata": {},
     "output_type": "execute_result"
    }
   ],
   "source": [
    "# train the model\n",
    "model.fit(x_train, y_train)\n",
    "model1.fit(x_train, y_train)"
   ]
  },
  {
   "cell_type": "code",
   "execution_count": 51,
   "id": "70731bd6",
   "metadata": {},
   "outputs": [
    {
     "data": {
      "text/plain": [
       "array([ 95.80755383,  84.68788086,  97.43350941,  71.77149973,\n",
       "        83.92664287,  98.40711169,  79.6853544 ,  78.54945598,\n",
       "        93.47096184, 101.05844279])"
      ]
     },
     "execution_count": 51,
     "metadata": {},
     "output_type": "execute_result"
    }
   ],
   "source": [
    "# test the model\n",
    "from sklearn.metrics import mean_absolute_error as mae\n",
    "pred = model1.predict(x_test)\n",
    "pred[:10]"
   ]
  },
  {
   "cell_type": "code",
   "execution_count": 52,
   "id": "5b94dbab",
   "metadata": {},
   "outputs": [
    {
     "data": {
      "text/plain": [
       "4.401243389027048"
      ]
     },
     "execution_count": 52,
     "metadata": {},
     "output_type": "execute_result"
    }
   ],
   "source": [
    "mae(pred, y_test)"
   ]
  }
 ],
 "metadata": {
  "kernelspec": {
   "display_name": "Python 3 (ipykernel)",
   "language": "python",
   "name": "python3"
  },
  "language_info": {
   "codemirror_mode": {
    "name": "ipython",
    "version": 3
   },
   "file_extension": ".py",
   "mimetype": "text/x-python",
   "name": "python",
   "nbconvert_exporter": "python",
   "pygments_lexer": "ipython3",
   "version": "3.10.4"
  }
 },
 "nbformat": 4,
 "nbformat_minor": 5
}
